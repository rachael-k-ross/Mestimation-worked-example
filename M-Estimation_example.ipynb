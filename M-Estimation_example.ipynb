{
 "cells": [
  {
   "cell_type": "markdown",
   "id": "6efde69d",
   "metadata": {},
   "source": [
    "# M-estimation: a worked example with connections to maximum likelihood estimation \n",
    "\n",
    "Python (XXX 2023/01/16)"
   ]
  },
  {
   "cell_type": "code",
   "execution_count": 1,
   "id": "8b0da600",
   "metadata": {},
   "outputs": [
    {
     "name": "stdout",
     "output_type": "stream",
     "text": [
      "versions\n",
      "--------------------\n",
      "NumPy:        1.22.2\n",
      "SciPy:        1.9.2\n",
      "pandas:       1.4.1\n",
      "statsmodels:  0.13.2\n",
      "Delicatessen: 1.1\n"
     ]
    }
   ],
   "source": [
    "import numpy as np\n",
    "import pandas as pd\n",
    "import statsmodels.api as sm\n",
    "import statsmodels.formula.api as smf\n",
    "import scipy as sp\n",
    "from scipy.optimize import minimize, approx_fprime, newton\n",
    "import delicatessen as deli\n",
    "from delicatessen import MEstimator\n",
    "from delicatessen.estimating_equations import ee_regression\n",
    "from delicatessen.utilities import inverse_logit\n",
    "\n",
    "print(\"versions\")\n",
    "print(\"--------------------\")\n",
    "print(\"NumPy:       \", np.__version__)\n",
    "print(\"SciPy:       \", sp.__version__)\n",
    "print(\"pandas:      \", pd.__version__)\n",
    "print(\"statsmodels: \", sm.__version__)\n",
    "print(\"Delicatessen:\", deli.__version__)"
   ]
  },
  {
   "cell_type": "markdown",
   "id": "b38fef56",
   "metadata": {},
   "source": [
    "### Loading data\n",
    "Generating the corresponding data set from Table 1"
   ]
  },
  {
   "cell_type": "code",
   "execution_count": 2,
   "id": "0ce521a3",
   "metadata": {},
   "outputs": [],
   "source": [
    "# From Table 1\n",
    "d = pd.DataFrame()\n",
    "d['X'] = [0, 0, 0, 0, 1, 1, 1, 1]\n",
    "d['W'] = [0, 0, 1, 1, 0, 0, 1, 1]\n",
    "d['Y'] = [0, 1, 0, 1, 0, 1, 0, 1]\n",
    "d['n'] = [496, 74, 113, 25, 85, 15, 15, 3]\n",
    "d['intercept'] = 1\n",
    "\n",
    "# Expanding rows by n\n",
    "d = pd.DataFrame(np.repeat(d.values, d['n'], axis=0), columns=d.columns)\n",
    "d = d[['intercept', 'X', 'W', 'Y']].copy()"
   ]
  },
  {
   "cell_type": "markdown",
   "id": "035cd6bf",
   "metadata": {},
   "source": [
    "### Maximum Likelihood Estimation (MLE) by-hand\n",
    "First, we will do the MLE by-hand using `scipy.optimize` with the Nelder-Mead algorithm."
   ]
  },
  {
   "cell_type": "code",
   "execution_count": 3,
   "id": "070d8970",
   "metadata": {},
   "outputs": [],
   "source": [
    "def loglikelihood(beta):\n",
    "    # Transform log-odds to probability\n",
    "    prob = inverse_logit(np.dot(X, beta))\n",
    "    # Individual contributions to log-likelihood\n",
    "    likelihood_i = y*np.log(prob) + (1-y)*np.log(1-prob)\n",
    "    # Sum of all individual contributions (negative since minimize)\n",
    "    return -np.sum(likelihood_i)"
   ]
  },
  {
   "cell_type": "code",
   "execution_count": 4,
   "id": "b08a381e",
   "metadata": {},
   "outputs": [
    {
     "data": {
      "text/plain": [
       "array([-1.89450473,  0.11877963,  0.36047201])"
      ]
     },
     "execution_count": 4,
     "metadata": {},
     "output_type": "execute_result"
    }
   ],
   "source": [
    "# Formatting data for likelihood optimization\n",
    "X = np.asarray(d[['intercept', 'X', 'W']])\n",
    "y = np.asarray(d['Y'])\n",
    "\n",
    "# Calling SciPy for optimization procedure\n",
    "mle = minimize(loglikelihood, [-2, 0, 0], method='Nelder-Mead')\n",
    "mle.x"
   ]
  },
  {
   "cell_type": "markdown",
   "id": "44a83136",
   "metadata": {},
   "source": [
    "### MLE with `statsmodels`\n",
    "Using `statsmodels` version of the generalized linear model to estimate the logistic model parameters"
   ]
  },
  {
   "cell_type": "code",
   "execution_count": 5,
   "id": "4f489bbf",
   "metadata": {},
   "outputs": [
    {
     "data": {
      "text/plain": [
       "Intercept   -1.894501\n",
       "X            0.118735\n",
       "W            0.360511\n",
       "dtype: float64"
      ]
     },
     "execution_count": 5,
     "metadata": {},
     "output_type": "execute_result"
    }
   ],
   "source": [
    "f = sm.families.Binomial()\n",
    "fm = smf.glm(\"Y ~ X + W\", d, family=f).fit()\n",
    "fm.params  # Point estimates"
   ]
  },
  {
   "cell_type": "code",
   "execution_count": 6,
   "id": "36a3d4cb",
   "metadata": {},
   "outputs": [
    {
     "data": {
      "text/plain": [
       "Intercept    0.014960\n",
       "X            0.077648\n",
       "W            0.056605\n",
       "dtype: float64"
      ]
     },
     "execution_count": 6,
     "metadata": {},
     "output_type": "execute_result"
    }
   ],
   "source": [
    "fm.bse**2  # Variance (Hessian-based)"
   ]
  },
  {
   "cell_type": "markdown",
   "id": "22163f88",
   "metadata": {},
   "source": [
    "### M-estimation by-hand"
   ]
  },
  {
   "cell_type": "code",
   "execution_count": 7,
   "id": "2cb2b280",
   "metadata": {},
   "outputs": [],
   "source": [
    "def ee_logistic(theta):\n",
    "    # Estimating equation for the logistic model\n",
    "    beta = np.asarray(theta)[:, None]\n",
    "    n = d.shape[0]\n",
    "\n",
    "    # Looping through each observation\n",
    "    est_vals = []\n",
    "    for i in range(n):\n",
    "        v_i = (y[i] - inverse_logit(np.dot(X[i], beta)))*X[i]\n",
    "        est_vals.append(v_i)\n",
    "\n",
    "    return np.asarray(est_vals).T\n",
    "\n",
    "\n",
    "def sum_ee(theta):\n",
    "    # Function to sum the previous estimating equation over all i's\n",
    "    stacked_equations = np.asarray(ee_logistic(theta))  # Returning stacked equation\n",
    "    vals = ()                                           # Create empty tuple\n",
    "    for i in stacked_equations:                         # Go through each individual theta\n",
    "        vals += (np.sum(i), )                           # Add the theta sum to the tuple of thetas\n",
    "\n",
    "    # Return the calculated values of theta\n",
    "    return vals\n",
    "\n",
    "\n",
    "def solve_m_estimator(stacked_equations, init):\n",
    "    # Wrapper function for SciPy root-finding \n",
    "    psi = newton(stacked_equations,    # stacked equations to solve (should be written as sums)\n",
    "                 x0=np.asarray(init),  # initial values for solver\n",
    "                 maxiter=2000,         # Increasing iterations\n",
    "                 disp=True)            # Option to raise RuntimeError if doesn't converge\n",
    "    return psi"
   ]
  },
  {
   "cell_type": "code",
   "execution_count": 8,
   "id": "aeee1dfe",
   "metadata": {},
   "outputs": [
    {
     "name": "stdout",
     "output_type": "stream",
     "text": [
      "[-1.89449987  0.11873458  0.36051038]\n"
     ]
    }
   ],
   "source": [
    "# Solving the estimating equations for beta\n",
    "theta = solve_m_estimator(stacked_equations=sum_ee,\n",
    "                          init=[0, 0, 0]\n",
    "                          )\n",
    "print(theta)"
   ]
  },
  {
   "cell_type": "code",
   "execution_count": 9,
   "id": "05620054",
   "metadata": {},
   "outputs": [
    {
     "data": {
      "text/plain": [
       "array([0.01484041, 0.07772034, 0.05652968])"
      ]
     },
     "execution_count": 9,
     "metadata": {},
     "output_type": "execute_result"
    }
   ],
   "source": [
    "# Bread matrix computation\n",
    "bread = -approx_fprime(theta, sum_ee)\n",
    "bread_invert = np.linalg.inv(bread)\n",
    "\n",
    "# Meat matrix computation\n",
    "x = np.asarray(ee_logistic(theta=theta))\n",
    "meat = np.dot(x, x.T)\n",
    "\n",
    "# Sandwich variance\n",
    "sandwich = np.dot(np.dot(bread_invert, meat), bread_invert.T)\n",
    "sandwich_var = np.diag(sandwich)\n",
    "sandwich_var"
   ]
  },
  {
   "cell_type": "markdown",
   "id": "933967e8",
   "metadata": {},
   "source": [
    "### M-estimation with `delicatessen`"
   ]
  },
  {
   "cell_type": "code",
   "execution_count": 10,
   "id": "3b940b87",
   "metadata": {},
   "outputs": [],
   "source": [
    "def psi(theta):\n",
    "    return ee_regression(theta=theta, X=X, y=y, \n",
    "                         model='logistic')"
   ]
  },
  {
   "cell_type": "code",
   "execution_count": 11,
   "id": "e185d38e",
   "metadata": {},
   "outputs": [
    {
     "data": {
      "text/plain": [
       "array([-1.89450082,  0.11873535,  0.36051133])"
      ]
     },
     "execution_count": 11,
     "metadata": {},
     "output_type": "execute_result"
    }
   ],
   "source": [
    "mestr = MEstimator(psi, init=[0, 0, 0])\n",
    "mestr.estimate(solver='lm')\n",
    "\n",
    "# Point estimates\n",
    "mestr.theta"
   ]
  },
  {
   "cell_type": "code",
   "execution_count": 12,
   "id": "6404cb18",
   "metadata": {},
   "outputs": [
    {
     "data": {
      "text/plain": [
       "array([0.01484041, 0.0777204 , 0.05652963])"
      ]
     },
     "execution_count": 12,
     "metadata": {},
     "output_type": "execute_result"
    }
   ],
   "source": [
    "# Sandwich variance\n",
    "np.diag(mestr.variance)"
   ]
  },
  {
   "cell_type": "code",
   "execution_count": 13,
   "id": "78f64db5",
   "metadata": {},
   "outputs": [
    {
     "data": {
      "text/plain": [
       "array([0.01496049, 0.07764846, 0.05660454])"
      ]
     },
     "execution_count": 13,
     "metadata": {},
     "output_type": "execute_result"
    }
   ],
   "source": [
    "# Hessian-based variance\n",
    "np.diag(np.linalg.inv(mestr.bread) / d.shape[0])"
   ]
  },
  {
   "cell_type": "code",
   "execution_count": 14,
   "id": "e1adc8e4",
   "metadata": {},
   "outputs": [
    {
     "data": {
      "text/plain": [
       "array([0.01508328, 0.07761366, 0.05670628])"
      ]
     },
     "execution_count": 14,
     "metadata": {},
     "output_type": "execute_result"
    }
   ],
   "source": [
    "# Outer-product variance\n",
    "np.diag(np.linalg.inv(mestr.meat) / d.shape[0])"
   ]
  },
  {
   "cell_type": "markdown",
   "id": "bb77d869",
   "metadata": {},
   "source": [
    "### Table 2 Replication"
   ]
  },
  {
   "cell_type": "code",
   "execution_count": 15,
   "id": "00ddbca8",
   "metadata": {},
   "outputs": [
    {
     "data": {
      "text/html": [
       "<div>\n",
       "<style scoped>\n",
       "    .dataframe tbody tr th:only-of-type {\n",
       "        vertical-align: middle;\n",
       "    }\n",
       "\n",
       "    .dataframe tbody tr th {\n",
       "        vertical-align: top;\n",
       "    }\n",
       "\n",
       "    .dataframe thead th {\n",
       "        text-align: right;\n",
       "    }\n",
       "</style>\n",
       "<table border=\"1\" class=\"dataframe\">\n",
       "  <thead>\n",
       "    <tr style=\"text-align: right;\">\n",
       "      <th></th>\n",
       "      <th>MLE-1</th>\n",
       "      <th>MLE-2</th>\n",
       "      <th>Root-1</th>\n",
       "      <th>Root-2</th>\n",
       "      <th>Hessian</th>\n",
       "      <th>OuterProd</th>\n",
       "      <th>Sandwich-1</th>\n",
       "      <th>Sandwich-2</th>\n",
       "    </tr>\n",
       "  </thead>\n",
       "  <tbody>\n",
       "    <tr>\n",
       "      <th>Intercept</th>\n",
       "      <td>-1.894501</td>\n",
       "      <td>-1.894505</td>\n",
       "      <td>-1.894500</td>\n",
       "      <td>-1.894501</td>\n",
       "      <td>0.014960</td>\n",
       "      <td>0.015083</td>\n",
       "      <td>0.01484</td>\n",
       "      <td>0.01484</td>\n",
       "    </tr>\n",
       "    <tr>\n",
       "      <th>X</th>\n",
       "      <td>0.118735</td>\n",
       "      <td>0.118780</td>\n",
       "      <td>0.118735</td>\n",
       "      <td>0.118735</td>\n",
       "      <td>0.077648</td>\n",
       "      <td>0.077614</td>\n",
       "      <td>0.07772</td>\n",
       "      <td>0.07772</td>\n",
       "    </tr>\n",
       "    <tr>\n",
       "      <th>W</th>\n",
       "      <td>0.360511</td>\n",
       "      <td>0.360472</td>\n",
       "      <td>0.360510</td>\n",
       "      <td>0.360511</td>\n",
       "      <td>0.056605</td>\n",
       "      <td>0.056706</td>\n",
       "      <td>0.05653</td>\n",
       "      <td>0.05653</td>\n",
       "    </tr>\n",
       "  </tbody>\n",
       "</table>\n",
       "</div>"
      ],
      "text/plain": [
       "              MLE-1     MLE-2    Root-1    Root-2   Hessian  OuterProd  \\\n",
       "Intercept -1.894501 -1.894505 -1.894500 -1.894501  0.014960   0.015083   \n",
       "X          0.118735  0.118780  0.118735  0.118735  0.077648   0.077614   \n",
       "W          0.360511  0.360472  0.360510  0.360511  0.056605   0.056706   \n",
       "\n",
       "           Sandwich-1  Sandwich-2  \n",
       "Intercept     0.01484     0.01484  \n",
       "X             0.07772     0.07772  \n",
       "W             0.05653     0.05653  "
      ]
     },
     "execution_count": 15,
     "metadata": {},
     "output_type": "execute_result"
    }
   ],
   "source": [
    "t2 = pd.DataFrame()\n",
    "t2['MLE-1'] = fm.params\n",
    "t2['MLE-2'] = mle.x\n",
    "t2['Root-1'] = theta\n",
    "t2['Root-2'] = mestr.theta\n",
    "t2['Hessian'] = fm.bse**2\n",
    "t2['OuterProd'] = np.diag(np.linalg.inv(mestr.meat) / d.shape[0])\n",
    "t2['Sandwich-1'] = sandwich_var\n",
    "t2['Sandwich-2'] = np.diag(mestr.variance)\n",
    "\n",
    "t2"
   ]
  }
 ],
 "metadata": {
  "kernelspec": {
   "display_name": "Python 3 (ipykernel)",
   "language": "python",
   "name": "python3"
  },
  "language_info": {
   "codemirror_mode": {
    "name": "ipython",
    "version": 3
   },
   "file_extension": ".py",
   "mimetype": "text/x-python",
   "name": "python",
   "nbconvert_exporter": "python",
   "pygments_lexer": "ipython3",
   "version": "3.9.4"
  }
 },
 "nbformat": 4,
 "nbformat_minor": 5
}
