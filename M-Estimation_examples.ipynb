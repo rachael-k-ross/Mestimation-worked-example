{
 "cells": [
  {
   "cell_type": "markdown",
   "id": "6efde69d",
   "metadata": {},
   "source": [
    "# M-estimation: introduction and applied examples \n",
    "\n",
    "Python (Paul Zivich 2023/06/08)"
   ]
  },
  {
   "cell_type": "code",
   "execution_count": 1,
   "id": "8b0da600",
   "metadata": {},
   "outputs": [
    {
     "name": "stdout",
     "output_type": "stream",
     "text": [
      "versions\n",
      "--------------------\n",
      "NumPy:        1.22.2\n",
      "SciPy:        1.9.2\n",
      "pandas:       1.4.1\n",
      "statsmodels:  0.13.2\n",
      "Delicatessen: 1.2\n"
     ]
    }
   ],
   "source": [
    "import numpy as np\n",
    "import pandas as pd\n",
    "import statsmodels.api as sm\n",
    "import statsmodels.formula.api as smf\n",
    "import scipy as sp\n",
    "from scipy.optimize import minimize, approx_fprime, newton\n",
    "import delicatessen as deli\n",
    "from delicatessen import MEstimator\n",
    "from delicatessen.estimating_equations import ee_regression\n",
    "from delicatessen.utilities import inverse_logit\n",
    "\n",
    "print(\"versions\")\n",
    "print(\"--------------------\")\n",
    "print(\"NumPy:       \", np.__version__)\n",
    "print(\"SciPy:       \", sp.__version__)\n",
    "print(\"pandas:      \", pd.__version__)\n",
    "print(\"statsmodels: \", sm.__version__)\n",
    "print(\"Delicatessen:\", deli.__version__)"
   ]
  },
  {
   "cell_type": "markdown",
   "id": "b38fef56",
   "metadata": {},
   "source": [
    "### Loading data\n",
    "Generating the corresponding data set from Table 1"
   ]
  },
  {
   "cell_type": "code",
   "execution_count": 2,
   "id": "0ce521a3",
   "metadata": {},
   "outputs": [],
   "source": [
    "# From Table 1\n",
    "d = pd.DataFrame()\n",
    "d['X'] = [0, 0, 0, 0, 1, 1, 1, 1]\n",
    "d['W'] = [0, 0, 1, 1, 0, 0, 1, 1]\n",
    "d['Y'] = [0, 1, 0, 1, 0, 1, 0, 1]\n",
    "d['n'] = [496, 74, 113, 25, 85, 15, 15, 3]\n",
    "d['intercept'] = 1\n",
    "\n",
    "# Expanding rows by n\n",
    "d = pd.DataFrame(np.repeat(d.values, d['n'], axis=0), columns=d.columns)\n",
    "d = d[['intercept', 'X', 'W', 'Y']].copy()"
   ]
  },
  {
   "cell_type": "code",
   "execution_count": 3,
   "id": "cd0765f4",
   "metadata": {},
   "outputs": [],
   "source": [
    "X = np.asarray(d[['intercept', 'X', 'W']])\n",
    "y = np.asarray(d['Y'])"
   ]
  },
  {
   "cell_type": "markdown",
   "id": "035cd6bf",
   "metadata": {},
   "source": [
    "## Example 1: Logistic Regression\n",
    "\n",
    "### Regression by Maximum Likelihood Estimation (MLE)\n",
    "Using `statsmodels` version of the generalized linear model to estimate the logistic model parameters"
   ]
  },
  {
   "cell_type": "code",
   "execution_count": 4,
   "id": "4f489bbf",
   "metadata": {},
   "outputs": [],
   "source": [
    "f = sm.families.Binomial()\n",
    "fm = smf.glm(\"Y ~ X + W\", d, family=f).fit()"
   ]
  },
  {
   "cell_type": "code",
   "execution_count": 5,
   "id": "36a3d4cb",
   "metadata": {},
   "outputs": [
    {
     "data": {
      "text/html": [
       "<table class=\"simpletable\">\n",
       "<caption>Generalized Linear Model Regression Results</caption>\n",
       "<tr>\n",
       "  <th>Dep. Variable:</th>           <td>Y</td>        <th>  No. Observations:  </th>  <td>   826</td> \n",
       "</tr>\n",
       "<tr>\n",
       "  <th>Model:</th>                  <td>GLM</td>       <th>  Df Residuals:      </th>  <td>   823</td> \n",
       "</tr>\n",
       "<tr>\n",
       "  <th>Model Family:</th>        <td>Binomial</td>     <th>  Df Model:          </th>  <td>     2</td> \n",
       "</tr>\n",
       "<tr>\n",
       "  <th>Link Function:</th>         <td>Logit</td>      <th>  Scale:             </th> <td>  1.0000</td>\n",
       "</tr>\n",
       "<tr>\n",
       "  <th>Method:</th>                <td>IRLS</td>       <th>  Log-Likelihood:    </th> <td> -335.79</td>\n",
       "</tr>\n",
       "<tr>\n",
       "  <th>Date:</th>            <td>Thu, 08 Jun 2023</td> <th>  Deviance:          </th> <td>  671.59</td>\n",
       "</tr>\n",
       "<tr>\n",
       "  <th>Time:</th>                <td>14:38:47</td>     <th>  Pearson chi2:      </th>  <td>  826.</td> \n",
       "</tr>\n",
       "<tr>\n",
       "  <th>No. Iterations:</th>          <td>4</td>        <th>  Pseudo R-squ. (CS):</th> <td>0.002817</td>\n",
       "</tr>\n",
       "<tr>\n",
       "  <th>Covariance Type:</th>     <td>nonrobust</td>    <th>                     </th>     <td> </td>   \n",
       "</tr>\n",
       "</table>\n",
       "<table class=\"simpletable\">\n",
       "<tr>\n",
       "      <td></td>         <th>coef</th>     <th>std err</th>      <th>z</th>      <th>P>|z|</th>  <th>[0.025</th>    <th>0.975]</th>  \n",
       "</tr>\n",
       "<tr>\n",
       "  <th>Intercept</th> <td>   -1.8945</td> <td>    0.122</td> <td>  -15.489</td> <td> 0.000</td> <td>   -2.134</td> <td>   -1.655</td>\n",
       "</tr>\n",
       "<tr>\n",
       "  <th>X</th>         <td>    0.1187</td> <td>    0.279</td> <td>    0.426</td> <td> 0.670</td> <td>   -0.427</td> <td>    0.665</td>\n",
       "</tr>\n",
       "<tr>\n",
       "  <th>W</th>         <td>    0.3605</td> <td>    0.238</td> <td>    1.515</td> <td> 0.130</td> <td>   -0.106</td> <td>    0.827</td>\n",
       "</tr>\n",
       "</table>"
      ],
      "text/plain": [
       "<class 'statsmodels.iolib.summary.Summary'>\n",
       "\"\"\"\n",
       "                 Generalized Linear Model Regression Results                  \n",
       "==============================================================================\n",
       "Dep. Variable:                      Y   No. Observations:                  826\n",
       "Model:                            GLM   Df Residuals:                      823\n",
       "Model Family:                Binomial   Df Model:                            2\n",
       "Link Function:                  Logit   Scale:                          1.0000\n",
       "Method:                          IRLS   Log-Likelihood:                -335.79\n",
       "Date:                Thu, 08 Jun 2023   Deviance:                       671.59\n",
       "Time:                        14:38:47   Pearson chi2:                     826.\n",
       "No. Iterations:                     4   Pseudo R-squ. (CS):           0.002817\n",
       "Covariance Type:            nonrobust                                         \n",
       "==============================================================================\n",
       "                 coef    std err          z      P>|z|      [0.025      0.975]\n",
       "------------------------------------------------------------------------------\n",
       "Intercept     -1.8945      0.122    -15.489      0.000      -2.134      -1.655\n",
       "X              0.1187      0.279      0.426      0.670      -0.427       0.665\n",
       "W              0.3605      0.238      1.515      0.130      -0.106       0.827\n",
       "==============================================================================\n",
       "\"\"\""
      ]
     },
     "execution_count": 5,
     "metadata": {},
     "output_type": "execute_result"
    }
   ],
   "source": [
    "fm.summary()"
   ]
  },
  {
   "cell_type": "markdown",
   "id": "22163f88",
   "metadata": {},
   "source": [
    "### M-estimation by-hand\n",
    "\n",
    "#### Defining estimating equations"
   ]
  },
  {
   "cell_type": "code",
   "execution_count": 6,
   "id": "2cb2b280",
   "metadata": {},
   "outputs": [],
   "source": [
    "def ee_logistic(theta):\n",
    "    # Estimating equation for the logistic model\n",
    "    beta = np.asarray(theta)[:, None]\n",
    "    n = d.shape[0]\n",
    "\n",
    "    # Looping through each observation\n",
    "    est_vals = []\n",
    "    for i in range(n):\n",
    "        v_i = (y[i] - inverse_logit(np.dot(X[i], beta)))*X[i]\n",
    "        est_vals.append(v_i)\n",
    "\n",
    "    return np.asarray(est_vals).T\n",
    "\n",
    "\n",
    "def sum_ee(theta):\n",
    "    # Function to sum the previous estimating equation over all i's\n",
    "    stacked_equations = np.asarray(ee_logistic(theta))  # Returning stacked equation\n",
    "    vals = ()                                           # Create empty tuple\n",
    "    for i in stacked_equations:                         # Go through each individual theta\n",
    "        vals += (np.sum(i), )                           # Add the theta sum to the tuple of thetas\n",
    "\n",
    "    # Return the calculated values of theta\n",
    "    return vals\n",
    "\n",
    "\n",
    "def solve_m_estimator(stacked_equations, init):\n",
    "    # Wrapper function for SciPy root-finding \n",
    "    psi = newton(stacked_equations,    # stacked equations to solve (should be written as sums)\n",
    "                 x0=np.asarray(init),  # initial values for solver\n",
    "                 maxiter=2000,         # Increasing iterations\n",
    "                 disp=True)            # Option to raise RuntimeError if doesn't converge\n",
    "    return psi"
   ]
  },
  {
   "cell_type": "markdown",
   "id": "39a0732f",
   "metadata": {},
   "source": [
    "#### Root-finding"
   ]
  },
  {
   "cell_type": "code",
   "execution_count": 7,
   "id": "1d41d26c",
   "metadata": {},
   "outputs": [
    {
     "name": "stdout",
     "output_type": "stream",
     "text": [
      "[-1.89449987  0.11873458  0.36051038]\n"
     ]
    }
   ],
   "source": [
    "# Solving the estimating equations for beta\n",
    "theta = solve_m_estimator(stacked_equations=sum_ee,\n",
    "                          init=[0, 0, 0]\n",
    "                          )\n",
    "print(theta)"
   ]
  },
  {
   "cell_type": "markdown",
   "id": "da9b8cd0",
   "metadata": {},
   "source": [
    "#### Baking the Bread (approximate derivative)"
   ]
  },
  {
   "cell_type": "code",
   "execution_count": 8,
   "id": "aeee1dfe",
   "metadata": {},
   "outputs": [],
   "source": [
    "bread = -approx_fprime(theta, sum_ee)\n",
    "bread_invert = np.linalg.inv(bread)"
   ]
  },
  {
   "cell_type": "markdown",
   "id": "7fdc8ddf",
   "metadata": {},
   "source": [
    "#### Cooking the filling (matrix algebra)"
   ]
  },
  {
   "cell_type": "code",
   "execution_count": 9,
   "id": "e0e85415",
   "metadata": {},
   "outputs": [],
   "source": [
    "x = np.asarray(ee_logistic(theta=theta))\n",
    "meat = np.dot(x, x.T)"
   ]
  },
  {
   "cell_type": "markdown",
   "id": "99fc380a",
   "metadata": {},
   "source": [
    "#### Assembling the sandwich (matrix algebra)"
   ]
  },
  {
   "cell_type": "code",
   "execution_count": 10,
   "id": "05620054",
   "metadata": {},
   "outputs": [
    {
     "data": {
      "text/plain": [
       "array([0.01484041, 0.07772034, 0.05652968])"
      ]
     },
     "execution_count": 10,
     "metadata": {},
     "output_type": "execute_result"
    }
   ],
   "source": [
    "sandwich = np.dot(np.dot(bread_invert, meat), bread_invert.T)\n",
    "sandwich_var = np.diag(sandwich)\n",
    "sandwich_var"
   ]
  },
  {
   "cell_type": "markdown",
   "id": "933967e8",
   "metadata": {},
   "source": [
    "### M-estimation using `delicatessen`"
   ]
  },
  {
   "cell_type": "code",
   "execution_count": 11,
   "id": "3b940b87",
   "metadata": {},
   "outputs": [],
   "source": [
    "def psi(theta):\n",
    "    return ee_regression(theta=theta, X=X, y=y, \n",
    "                         model='logistic')"
   ]
  },
  {
   "cell_type": "code",
   "execution_count": 12,
   "id": "e185d38e",
   "metadata": {},
   "outputs": [
    {
     "data": {
      "text/plain": [
       "array([-1.89450082,  0.11873535,  0.36051132])"
      ]
     },
     "execution_count": 12,
     "metadata": {},
     "output_type": "execute_result"
    }
   ],
   "source": [
    "mestr = MEstimator(psi, init=[0, 0, 0])\n",
    "mestr.estimate()\n",
    "\n",
    "# Point estimates\n",
    "mestr.theta"
   ]
  },
  {
   "cell_type": "code",
   "execution_count": 13,
   "id": "6404cb18",
   "metadata": {},
   "outputs": [
    {
     "data": {
      "text/plain": [
       "array([0.01484043, 0.07772036, 0.05652968])"
      ]
     },
     "execution_count": 13,
     "metadata": {},
     "output_type": "execute_result"
    }
   ],
   "source": [
    "# Sandwich variance\n",
    "np.diag(mestr.variance)"
   ]
  },
  {
   "cell_type": "code",
   "execution_count": 14,
   "id": "78f64db5",
   "metadata": {},
   "outputs": [
    {
     "data": {
      "text/plain": [
       "array([0.0149605 , 0.07764844, 0.05660457])"
      ]
     },
     "execution_count": 14,
     "metadata": {},
     "output_type": "execute_result"
    }
   ],
   "source": [
    "# Hessian-based variance\n",
    "np.diag(np.linalg.inv(mestr.bread) / d.shape[0])"
   ]
  },
  {
   "cell_type": "code",
   "execution_count": 15,
   "id": "e1adc8e4",
   "metadata": {},
   "outputs": [
    {
     "data": {
      "text/plain": [
       "array([0.01508328, 0.07761366, 0.05670628])"
      ]
     },
     "execution_count": 15,
     "metadata": {},
     "output_type": "execute_result"
    }
   ],
   "source": [
    "# Outer-product variance\n",
    "np.diag(np.linalg.inv(mestr.meat) / d.shape[0])"
   ]
  },
  {
   "cell_type": "markdown",
   "id": "bb77d869",
   "metadata": {},
   "source": [
    "### Logistic Regression Results"
   ]
  },
  {
   "cell_type": "code",
   "execution_count": 16,
   "id": "00ddbca8",
   "metadata": {},
   "outputs": [
    {
     "data": {
      "text/html": [
       "<div>\n",
       "<style scoped>\n",
       "    .dataframe tbody tr th:only-of-type {\n",
       "        vertical-align: middle;\n",
       "    }\n",
       "\n",
       "    .dataframe tbody tr th {\n",
       "        vertical-align: top;\n",
       "    }\n",
       "\n",
       "    .dataframe thead th {\n",
       "        text-align: right;\n",
       "    }\n",
       "</style>\n",
       "<table border=\"1\" class=\"dataframe\">\n",
       "  <thead>\n",
       "    <tr style=\"text-align: right;\">\n",
       "      <th></th>\n",
       "      <th>Param</th>\n",
       "      <th>Coef</th>\n",
       "      <th>LCL</th>\n",
       "      <th>UCL</th>\n",
       "    </tr>\n",
       "  </thead>\n",
       "  <tbody>\n",
       "    <tr>\n",
       "      <th>0</th>\n",
       "      <td>beta_0</td>\n",
       "      <td>-1.89</td>\n",
       "      <td>-2.13</td>\n",
       "      <td>-1.66</td>\n",
       "    </tr>\n",
       "    <tr>\n",
       "      <th>1</th>\n",
       "      <td>beta_1</td>\n",
       "      <td>0.12</td>\n",
       "      <td>-0.43</td>\n",
       "      <td>0.67</td>\n",
       "    </tr>\n",
       "    <tr>\n",
       "      <th>2</th>\n",
       "      <td>beta_2</td>\n",
       "      <td>0.36</td>\n",
       "      <td>-0.11</td>\n",
       "      <td>0.83</td>\n",
       "    </tr>\n",
       "  </tbody>\n",
       "</table>\n",
       "</div>"
      ],
      "text/plain": [
       "    Param  Coef   LCL   UCL\n",
       "0  beta_0 -1.89 -2.13 -1.66\n",
       "1  beta_1  0.12 -0.43  0.67\n",
       "2  beta_2  0.36 -0.11  0.83"
      ]
     },
     "execution_count": 16,
     "metadata": {},
     "output_type": "execute_result"
    }
   ],
   "source": [
    "result = pd.DataFrame()\n",
    "result['Param'] = ['beta_0', 'beta_1', 'beta_2']\n",
    "result['Coef'] = mestr.theta\n",
    "ci = mestr.confidence_intervals()\n",
    "result['LCL'] = ci[:, 0]\n",
    "result['UCL'] = ci[:, 1]\n",
    "result.round(2)"
   ]
  },
  {
   "cell_type": "markdown",
   "id": "aa6ab39a",
   "metadata": {},
   "source": [
    "## Example 2: Standardization by IPW\n",
    "\n",
    "### Using `delicatessen`"
   ]
  },
  {
   "cell_type": "code",
   "execution_count": 17,
   "id": "5693aad8",
   "metadata": {},
   "outputs": [],
   "source": [
    "def psi(theta):\n",
    "    # Dividing parameters into corresponding parts and labels from slides\n",
    "    alpha = theta[0:2]                    # Logistic model coefficients\n",
    "    mu0, mu1 = theta[2], theta[3]         # Causal risks\n",
    "    delta1 = theta[4]                     # Causal contrast\n",
    "\n",
    "    # Using built-in regression model functionality from delicatessen\n",
    "    ee_logit = ee_regression(theta=alpha,\n",
    "                             y=d['X'],\n",
    "                             X=d[['intercept', 'W']],\n",
    "                             model='logistic')\n",
    "\n",
    "    # Transforming logistic model coefficients into causal parameters\n",
    "    pscore = inverse_logit(np.dot(d[['intercept', 'W']], alpha))  # Propensity score\n",
    "    wt = d['X']/pscore + (1-d['X'])/(1-pscore)                     # Corresponding weights\n",
    "\n",
    "    # Estimating function for causal risk under a=1\n",
    "    ee_r1 = d['X']*d['Y']*wt - mu1\n",
    "    \n",
    "    # Estimating function for causal risk under a=0\n",
    "    ee_r0 = (1-d['X'])*d['Y']*wt - mu0\n",
    "    \n",
    "    # Estimating function for causal risk difference\n",
    "    ee_rd = np.ones(d.shape[0])*((mu1 - mu0) - delta1)\n",
    "\n",
    "    # Returning stacked estimating functions in order of parameters\n",
    "    return np.vstack([ee_logit,   # EF of logistic model\n",
    "                      ee_r0,      # EF of causal risk a=0\n",
    "                      ee_r1,      # EF of causal risk a=1\n",
    "                      ee_rd])     # EF of causal risk difference"
   ]
  },
  {
   "cell_type": "code",
   "execution_count": 18,
   "id": "fce8f318",
   "metadata": {},
   "outputs": [],
   "source": [
    "mestr = MEstimator(psi, init=[0, 0, 0.5, 0.5, 0])\n",
    "mestr.estimate()"
   ]
  },
  {
   "cell_type": "code",
   "execution_count": 19,
   "id": "e0890472",
   "metadata": {},
   "outputs": [
    {
     "name": "stdout",
     "output_type": "stream",
     "text": [
      "IPW\n"
     ]
    },
    {
     "data": {
      "text/html": [
       "<div>\n",
       "<style scoped>\n",
       "    .dataframe tbody tr th:only-of-type {\n",
       "        vertical-align: middle;\n",
       "    }\n",
       "\n",
       "    .dataframe tbody tr th {\n",
       "        vertical-align: top;\n",
       "    }\n",
       "\n",
       "    .dataframe thead th {\n",
       "        text-align: right;\n",
       "    }\n",
       "</style>\n",
       "<table border=\"1\" class=\"dataframe\">\n",
       "  <thead>\n",
       "    <tr style=\"text-align: right;\">\n",
       "      <th></th>\n",
       "      <th>Param</th>\n",
       "      <th>Coef</th>\n",
       "      <th>LCL</th>\n",
       "      <th>UCL</th>\n",
       "    </tr>\n",
       "  </thead>\n",
       "  <tbody>\n",
       "    <tr>\n",
       "      <th>0</th>\n",
       "      <td>alpha_0</td>\n",
       "      <td>-1.74</td>\n",
       "      <td>-1.95</td>\n",
       "      <td>-1.53</td>\n",
       "    </tr>\n",
       "    <tr>\n",
       "      <th>1</th>\n",
       "      <td>alpha_1</td>\n",
       "      <td>-0.30</td>\n",
       "      <td>-0.83</td>\n",
       "      <td>0.24</td>\n",
       "    </tr>\n",
       "    <tr>\n",
       "      <th>2</th>\n",
       "      <td>mu_0</td>\n",
       "      <td>0.14</td>\n",
       "      <td>0.11</td>\n",
       "      <td>0.17</td>\n",
       "    </tr>\n",
       "    <tr>\n",
       "      <th>3</th>\n",
       "      <td>mu_1</td>\n",
       "      <td>0.15</td>\n",
       "      <td>0.09</td>\n",
       "      <td>0.22</td>\n",
       "    </tr>\n",
       "    <tr>\n",
       "      <th>4</th>\n",
       "      <td>delta</td>\n",
       "      <td>0.01</td>\n",
       "      <td>-0.06</td>\n",
       "      <td>0.08</td>\n",
       "    </tr>\n",
       "  </tbody>\n",
       "</table>\n",
       "</div>"
      ],
      "text/plain": [
       "     Param  Coef   LCL   UCL\n",
       "0  alpha_0 -1.74 -1.95 -1.53\n",
       "1  alpha_1 -0.30 -0.83  0.24\n",
       "2     mu_0  0.14  0.11  0.17\n",
       "3     mu_1  0.15  0.09  0.22\n",
       "4    delta  0.01 -0.06  0.08"
      ]
     },
     "execution_count": 19,
     "metadata": {},
     "output_type": "execute_result"
    }
   ],
   "source": [
    "result = pd.DataFrame()\n",
    "result['Param'] = ['alpha_0', 'alpha_1', 'mu_0', 'mu_1', 'delta']\n",
    "result['Coef'] = mestr.theta\n",
    "ci = mestr.confidence_intervals()\n",
    "result['LCL'] = ci[:, 0]\n",
    "result['UCL'] = ci[:, 1]\n",
    "print(\"IPW\")\n",
    "result.round(2)"
   ]
  },
  {
   "cell_type": "markdown",
   "id": "1fa9e4fa",
   "metadata": {},
   "source": [
    "## Example 3: Standardization by G-computation\n",
    "\n",
    "### Using `delicatessen`"
   ]
  },
  {
   "cell_type": "code",
   "execution_count": 20,
   "id": "f25f33ff",
   "metadata": {},
   "outputs": [],
   "source": [
    "# Copies of data with policies applied\n",
    "d1 = d.copy()\n",
    "d1['X'] = 1\n",
    "d0 = d.copy()\n",
    "d0['X'] = 0"
   ]
  },
  {
   "cell_type": "code",
   "execution_count": 21,
   "id": "30dab6d4",
   "metadata": {},
   "outputs": [],
   "source": [
    "def psi(theta):\n",
    "    # Dividing parameters into corresponding parts and labels from slides\n",
    "    beta = theta[0:3]                     # Logistic model coefficients\n",
    "    mu0, mu1 = theta[3], theta[4]         # Causal risks\n",
    "    delta1 = theta[5]                     # Causal contrasts\n",
    "\n",
    "    # Using built-in regression model functionality from delicatessen\n",
    "    ee_logit = ee_regression(theta=beta,\n",
    "                             y=d['Y'],\n",
    "                             X=d[['intercept', 'X', 'W']],\n",
    "                             model='logistic')\n",
    "\n",
    "    # Transforming logistic model coefficients into causal parameters\n",
    "    y0_hat = inverse_logit(np.dot(d0[['intercept', 'X', 'W']], beta))  # Prediction under a=0\n",
    "    y1_hat = inverse_logit(np.dot(d1[['intercept', 'X', 'W']], beta))  # Prediction under a=1\n",
    "\n",
    "    # Estimating function for causal risk under a=1\n",
    "    ee_r1 = y1_hat - mu1\n",
    "\n",
    "    # Estimating function for causal risk under a=0\n",
    "    ee_r0 = y0_hat - mu0\n",
    "    \n",
    "    # Estimating function for causal risk difference\n",
    "    ee_rd = np.ones(d.shape[0])*((mu1 - mu0) - delta1)\n",
    "\n",
    "    # Returning stacked estimating functions in order of parameters\n",
    "    return np.vstack([ee_logit,   # EF of logistic model\n",
    "                      ee_r0,      # EF of causal risk a=0\n",
    "                      ee_r1,      # EF of causal risk a=1\n",
    "                      ee_rd])     # EF of causal risk difference"
   ]
  },
  {
   "cell_type": "code",
   "execution_count": 22,
   "id": "5d4e7d75",
   "metadata": {},
   "outputs": [],
   "source": [
    "mestr = MEstimator(psi, init=[0, 0, 0, 0.5, 0.5, 0])\n",
    "mestr.estimate(solver='lm')"
   ]
  },
  {
   "cell_type": "code",
   "execution_count": 23,
   "id": "dcc8828d",
   "metadata": {},
   "outputs": [
    {
     "name": "stdout",
     "output_type": "stream",
     "text": [
      "G-computation\n"
     ]
    },
    {
     "data": {
      "text/html": [
       "<div>\n",
       "<style scoped>\n",
       "    .dataframe tbody tr th:only-of-type {\n",
       "        vertical-align: middle;\n",
       "    }\n",
       "\n",
       "    .dataframe tbody tr th {\n",
       "        vertical-align: top;\n",
       "    }\n",
       "\n",
       "    .dataframe thead th {\n",
       "        text-align: right;\n",
       "    }\n",
       "</style>\n",
       "<table border=\"1\" class=\"dataframe\">\n",
       "  <thead>\n",
       "    <tr style=\"text-align: right;\">\n",
       "      <th></th>\n",
       "      <th>Param</th>\n",
       "      <th>Coef</th>\n",
       "      <th>LCL</th>\n",
       "      <th>UCL</th>\n",
       "    </tr>\n",
       "  </thead>\n",
       "  <tbody>\n",
       "    <tr>\n",
       "      <th>0</th>\n",
       "      <td>beta_0</td>\n",
       "      <td>-1.89</td>\n",
       "      <td>-2.13</td>\n",
       "      <td>-1.66</td>\n",
       "    </tr>\n",
       "    <tr>\n",
       "      <th>1</th>\n",
       "      <td>beta_1</td>\n",
       "      <td>0.12</td>\n",
       "      <td>-0.43</td>\n",
       "      <td>0.67</td>\n",
       "    </tr>\n",
       "    <tr>\n",
       "      <th>2</th>\n",
       "      <td>beta_2</td>\n",
       "      <td>0.36</td>\n",
       "      <td>-0.11</td>\n",
       "      <td>0.83</td>\n",
       "    </tr>\n",
       "    <tr>\n",
       "      <th>3</th>\n",
       "      <td>mu_0</td>\n",
       "      <td>0.14</td>\n",
       "      <td>0.11</td>\n",
       "      <td>0.17</td>\n",
       "    </tr>\n",
       "    <tr>\n",
       "      <th>4</th>\n",
       "      <td>mu_1</td>\n",
       "      <td>0.15</td>\n",
       "      <td>0.09</td>\n",
       "      <td>0.22</td>\n",
       "    </tr>\n",
       "    <tr>\n",
       "      <th>5</th>\n",
       "      <td>delta</td>\n",
       "      <td>0.01</td>\n",
       "      <td>-0.06</td>\n",
       "      <td>0.09</td>\n",
       "    </tr>\n",
       "  </tbody>\n",
       "</table>\n",
       "</div>"
      ],
      "text/plain": [
       "    Param  Coef   LCL   UCL\n",
       "0  beta_0 -1.89 -2.13 -1.66\n",
       "1  beta_1  0.12 -0.43  0.67\n",
       "2  beta_2  0.36 -0.11  0.83\n",
       "3    mu_0  0.14  0.11  0.17\n",
       "4    mu_1  0.15  0.09  0.22\n",
       "5   delta  0.01 -0.06  0.09"
      ]
     },
     "execution_count": 23,
     "metadata": {},
     "output_type": "execute_result"
    }
   ],
   "source": [
    "result = pd.DataFrame()\n",
    "result['Param'] = ['beta_0', 'beta_1', 'beta_2', 'mu_0', 'mu_1', 'delta']\n",
    "result['Coef'] = mestr.theta\n",
    "ci = mestr.confidence_intervals()\n",
    "result['LCL'] = ci[:, 0]\n",
    "result['UCL'] = ci[:, 1]\n",
    "print(\"G-computation\")\n",
    "result.round(2)"
   ]
  },
  {
   "cell_type": "markdown",
   "id": "291d0b78",
   "metadata": {},
   "source": [
    "## Example 4: Data Fusion\n",
    "\n",
    "### Setting up data"
   ]
  },
  {
   "cell_type": "code",
   "execution_count": 24,
   "id": "370764b5",
   "metadata": {},
   "outputs": [],
   "source": [
    "d = pd.DataFrame()\n",
    "d['R'] = [1, 1, 0, 0, 0, 0]\n",
    "d['Y'] = [0, 0, 1, 1, 0, 0]\n",
    "d['W'] = [1, 0, 1, 0, 1, 0]\n",
    "d['n'] = [680, 270, 204, 38, 18, 71]\n",
    "d['intercept'] = 1\n",
    "d = pd.DataFrame(np.repeat(d.values, d['n'], axis=0),   # Expanding compact data frame\n",
    "                 columns=d.columns)                     # ... keeping column names\n",
    "d = d[['intercept', 'R', 'W', 'Y']].copy()              # Dropping the n column\n",
    "n = d.shape[0]                                          # Number of observations\n",
    "\n",
    "r = np.asarray(d['R'])\n",
    "w = np.asarray(d['W'])\n",
    "y = np.asarray(d['Y'])"
   ]
  },
  {
   "cell_type": "markdown",
   "id": "d6a189ce",
   "metadata": {},
   "source": [
    "### Using `delicatessen`"
   ]
  },
  {
   "cell_type": "code",
   "execution_count": 25,
   "id": "8190f021",
   "metadata": {},
   "outputs": [],
   "source": [
    "def psi(theta):\n",
    "    ee_1 = r*(w - theta[0])                                                                    # EF naive mean\n",
    "    ee_2 = (1-r) * y * (w - theta[1])                                                          # EF sensitivity\n",
    "    ee_3 = (1-r) * (1-y) * ((1-w) - theta[2])                                                  # EF specificity\n",
    "    ee_4 = np.ones(y.shape[0])*theta[3]*(theta[1] + theta[2] - 1) - (theta[0] + theta[2] - 1)  # EF corrected mean\n",
    "\n",
    "    # Returning stacked estimating functions in order of parameters\n",
    "    return np.vstack([ee_1,      # EF naive mean\n",
    "                      ee_2,      # EF sensitivity\n",
    "                      ee_3,      # EF specificity\n",
    "                      ee_4])     # EF corrected mean"
   ]
  },
  {
   "cell_type": "code",
   "execution_count": 26,
   "id": "9575ef81",
   "metadata": {},
   "outputs": [],
   "source": [
    "mestr = MEstimator(psi, init=[0.5, 0.75, 0.75, 0.5])\n",
    "mestr.estimate()"
   ]
  },
  {
   "cell_type": "code",
   "execution_count": 27,
   "id": "a1d04abb",
   "metadata": {},
   "outputs": [
    {
     "data": {
      "text/html": [
       "<div>\n",
       "<style scoped>\n",
       "    .dataframe tbody tr th:only-of-type {\n",
       "        vertical-align: middle;\n",
       "    }\n",
       "\n",
       "    .dataframe tbody tr th {\n",
       "        vertical-align: top;\n",
       "    }\n",
       "\n",
       "    .dataframe thead th {\n",
       "        text-align: right;\n",
       "    }\n",
       "</style>\n",
       "<table border=\"1\" class=\"dataframe\">\n",
       "  <thead>\n",
       "    <tr style=\"text-align: right;\">\n",
       "      <th></th>\n",
       "      <th>Param</th>\n",
       "      <th>Coef</th>\n",
       "      <th>LCL</th>\n",
       "      <th>UCL</th>\n",
       "    </tr>\n",
       "  </thead>\n",
       "  <tbody>\n",
       "    <tr>\n",
       "      <th>0</th>\n",
       "      <td>theta_1</td>\n",
       "      <td>0.72</td>\n",
       "      <td>0.69</td>\n",
       "      <td>0.74</td>\n",
       "    </tr>\n",
       "    <tr>\n",
       "      <th>1</th>\n",
       "      <td>theta_2</td>\n",
       "      <td>0.84</td>\n",
       "      <td>0.80</td>\n",
       "      <td>0.89</td>\n",
       "    </tr>\n",
       "    <tr>\n",
       "      <th>2</th>\n",
       "      <td>theta_3</td>\n",
       "      <td>0.80</td>\n",
       "      <td>0.71</td>\n",
       "      <td>0.88</td>\n",
       "    </tr>\n",
       "    <tr>\n",
       "      <th>3</th>\n",
       "      <td>theta_4</td>\n",
       "      <td>0.80</td>\n",
       "      <td>0.72</td>\n",
       "      <td>0.88</td>\n",
       "    </tr>\n",
       "  </tbody>\n",
       "</table>\n",
       "</div>"
      ],
      "text/plain": [
       "     Param  Coef   LCL   UCL\n",
       "0  theta_1  0.72  0.69  0.74\n",
       "1  theta_2  0.84  0.80  0.89\n",
       "2  theta_3  0.80  0.71  0.88\n",
       "3  theta_4  0.80  0.72  0.88"
      ]
     },
     "execution_count": 27,
     "metadata": {},
     "output_type": "execute_result"
    }
   ],
   "source": [
    "result = pd.DataFrame()\n",
    "result['Param'] = ['theta_1', 'theta_2', 'theta_3', 'theta_4']\n",
    "result['Coef'] = mestr.theta\n",
    "ci = mestr.confidence_intervals()\n",
    "result['LCL'] = ci[:, 0]\n",
    "result['UCL'] = ci[:, 1]\n",
    "result.round(2)"
   ]
  },
  {
   "cell_type": "markdown",
   "id": "4b1f3266",
   "metadata": {},
   "source": [
    "END"
   ]
  }
 ],
 "metadata": {
  "kernelspec": {
   "display_name": "Python 3 (ipykernel)",
   "language": "python",
   "name": "python3"
  },
  "language_info": {
   "codemirror_mode": {
    "name": "ipython",
    "version": 3
   },
   "file_extension": ".py",
   "mimetype": "text/x-python",
   "name": "python",
   "nbconvert_exporter": "python",
   "pygments_lexer": "ipython3",
   "version": "3.9.4"
  }
 },
 "nbformat": 4,
 "nbformat_minor": 5
}
